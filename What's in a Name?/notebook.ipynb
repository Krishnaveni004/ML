{
 "cells": [
  {
   "cell_type": "markdown",
   "metadata": {
    "dc": {
     "key": "af3ab50ea7"
    },
    "deletable": false,
    "editable": false,
    "run_control": {
     "frozen": true
    },
    "tags": [
     "context"
    ]
   },
   "source": [
    "## 1. Introduction to Baby Names Data\n",
    "<blockquote>\n",
    "  <p>What’s in a name? That which we call a rose, By any other name would smell as sweet.</p>\n",
    "</blockquote>\n",
    "<p>In this project, we will explore a rich dataset of first names of babies born in the US, that spans a period of more than 100 years! This suprisingly simple dataset can help us uncover so many interesting stories, and that is exactly what we are going to be doing. </p>\n",
    "<p>Let us start by reading the data.</p>"
   ]
  },
  {
   "cell_type": "code",
   "execution_count": 41,
   "metadata": {
    "dc": {
     "key": "af3ab50ea7"
    },
    "tags": [
     "sample_code"
    ]
   },
   "outputs": [
    {
     "data": {
      "text/html": [
       "<div>\n",
       "<table border=\"1\" class=\"dataframe\">\n",
       "  <thead>\n",
       "    <tr style=\"text-align: right;\">\n",
       "      <th></th>\n",
       "      <th>name</th>\n",
       "      <th>sex</th>\n",
       "      <th>births</th>\n",
       "      <th>year</th>\n",
       "    </tr>\n",
       "  </thead>\n",
       "  <tbody>\n",
       "    <tr>\n",
       "      <th>0</th>\n",
       "      <td>Mary</td>\n",
       "      <td>F</td>\n",
       "      <td>7065</td>\n",
       "      <td>1880</td>\n",
       "    </tr>\n",
       "    <tr>\n",
       "      <th>1</th>\n",
       "      <td>Anna</td>\n",
       "      <td>F</td>\n",
       "      <td>2604</td>\n",
       "      <td>1880</td>\n",
       "    </tr>\n",
       "  </tbody>\n",
       "</table>\n",
       "</div>"
      ],
      "text/plain": [
       "   name sex  births  year\n",
       "0  Mary   F    7065  1880\n",
       "1  Anna   F    2604  1880"
      ]
     },
     "execution_count": 41,
     "metadata": {},
     "output_type": "execute_result"
    }
   ],
   "source": [
    "# Import modules\n",
    "\n",
    "import pandas as pd\n",
    "# Read names into a dataframe: bnames\n",
    "\n",
    "bnames=pd.read_csv('datasets/names.csv.gz')\n",
    "\n",
    "bnames.head(2)"
   ]
  },
  {
   "cell_type": "markdown",
   "metadata": {
    "dc": {
     "key": "0bc85b342d"
    },
    "deletable": false,
    "editable": false,
    "run_control": {
     "frozen": true
    },
    "tags": [
     "context"
    ]
   },
   "source": [
    "## 2. Exploring Trends in Names\n",
    "<p>One of the first things we want to do is to understand naming trends. Let us start by figuring out the top five most popular male and female names for this decade (born 2011 and later). Do you want to make any guesses? Go on, be a sport!!</p>"
   ]
  },
  {
   "cell_type": "code",
   "execution_count": 43,
   "metadata": {
    "dc": {
     "key": "0bc85b342d"
    },
    "tags": [
     "sample_code"
    ]
   },
   "outputs": [
    {
     "name": "stdout",
     "output_type": "stream",
     "text": [
      "       name sex  births\n",
      "0      Emma   F  121375\n",
      "1    Sophia   F  117352\n",
      "2    Olivia   F  111691\n",
      "3  Isabella   F  103947\n",
      "4       Ava   F   94507\n",
      "5      Noah   M  110280\n",
      "6     Mason   M  105104\n",
      "7     Jacob   M  104722\n",
      "8      Liam   M  103250\n",
      "9   William   M   99144\n"
     ]
    }
   ],
   "source": [
    "aggregations = {'births':{'births':'sum'},\n",
    "                'year':{'year':'min'}\n",
    "               }\n",
    "subset = bnames[bnames.year>=2011].groupby(['name','sex']).agg(aggregations).reset_index()\n",
    "subset.columns= subset.columns.droplevel(0)\n",
    "subset.columns=['name','sex','births','year']\n",
    "subset=subset[['name','sex','births']].sort(columns='births',ascending=False)\n",
    "\n",
    "bnames_top5=subset[subset.sex=='F'].head(5)\n",
    "males=subset[subset.sex=='M'].head(5)\n",
    "\n",
    "bnames_top5=bnames_top5.append(other=males,ignore_index=True)\n",
    "print(bnames_top5)"
   ]
  },
  {
   "cell_type": "markdown",
   "metadata": {
    "dc": {
     "key": "7cca0a6aff"
    },
    "deletable": false,
    "editable": false,
    "run_control": {
     "frozen": true
    },
    "tags": [
     "context"
    ]
   },
   "source": [
    "## 3. Proportion of Births\n",
    "<p>While the number of births is a useful metric, making comparisons across years becomes difficult, as one would have to control for population effects. One way around this is to normalize the number of births by the total number of births in that year.</p>"
   ]
  },
  {
   "cell_type": "code",
   "execution_count": 45,
   "metadata": {
    "dc": {
     "key": "7cca0a6aff"
    },
    "tags": [
     "sample_code"
    ]
   },
   "outputs": [
    {
     "name": "stdout",
     "output_type": "stream",
     "text": [
      "              name sex  births  year  prop_births\n",
      "0             Mary   F    7065  1880     0.035065\n",
      "1             Anna   F    2604  1880     0.012924\n",
      "2             Emma   F    2003  1880     0.009941\n",
      "3        Elizabeth   F    1939  1880     0.009624\n",
      "4           Minnie   F    1746  1880     0.008666\n",
      "5         Margaret   F    1578  1880     0.007832\n",
      "6              Ida   F    1472  1880     0.007306\n",
      "7            Alice   F    1414  1880     0.007018\n",
      "8           Bertha   F    1320  1880     0.006551\n",
      "9            Sarah   F    1288  1880     0.006393\n",
      "10           Annie   F    1258  1880     0.006244\n",
      "11           Clara   F    1226  1880     0.006085\n",
      "12            Ella   F    1156  1880     0.005737\n",
      "13        Florence   F    1063  1880     0.005276\n",
      "14            Cora   F    1045  1880     0.005187\n",
      "15          Martha   F    1040  1880     0.005162\n",
      "16           Laura   F    1012  1880     0.005023\n",
      "17          Nellie   F     995  1880     0.004938\n",
      "18           Grace   F     982  1880     0.004874\n",
      "19          Carrie   F     949  1880     0.004710\n",
      "20           Maude   F     858  1880     0.004258\n",
      "21           Mabel   F     808  1880     0.004010\n",
      "22          Bessie   F     796  1880     0.003951\n",
      "23          Jennie   F     793  1880     0.003936\n",
      "24        Gertrude   F     787  1880     0.003906\n",
      "25           Julia   F     783  1880     0.003886\n",
      "26          Hattie   F     769  1880     0.003817\n",
      "27           Edith   F     768  1880     0.003812\n",
      "28          Mattie   F     704  1880     0.003494\n",
      "29            Rose   F     700  1880     0.003474\n",
      "...            ...  ..     ...   ...          ...\n",
      "1891864    Zariyan   M       5  2016     0.000001\n",
      "1891865     Zarren   M       5  2016     0.000001\n",
      "1891866      Zaryn   M       5  2016     0.000001\n",
      "1891867      Zaxon   M       5  2016     0.000001\n",
      "1891868     Zaxtyn   M       5  2016     0.000001\n",
      "1891869       Zaye   M       5  2016     0.000001\n",
      "1891870     Zaymar   M       5  2016     0.000001\n",
      "1891871     Zaymir   M       5  2016     0.000001\n",
      "1891872      Zaynn   M       5  2016     0.000001\n",
      "1891873   Zayshaun   M       5  2016     0.000001\n",
      "1891874     Zedric   M       5  2016     0.000001\n",
      "1891875   Zekariah   M       5  2016     0.000001\n",
      "1891876      Zelan   M       5  2016     0.000001\n",
      "1891877     Zephen   M       5  2016     0.000001\n",
      "1891878   Zephyrus   M       5  2016     0.000001\n",
      "1891879      Zeric   M       5  2016     0.000001\n",
      "1891880      Zerin   M       5  2016     0.000001\n",
      "1891881     Zethan   M       5  2016     0.000001\n",
      "1891882      Zihao   M       5  2016     0.000001\n",
      "1891883       Zimo   M       5  2016     0.000001\n",
      "1891884       Zinn   M       5  2016     0.000001\n",
      "1891885      Zirui   M       5  2016     0.000001\n",
      "1891886       Ziya   M       5  2016     0.000001\n",
      "1891887     Ziyang   M       5  2016     0.000001\n",
      "1891888       Zoel   M       5  2016     0.000001\n",
      "1891889     Zolton   M       5  2016     0.000001\n",
      "1891890     Zurich   M       5  2016     0.000001\n",
      "1891891     Zyahir   M       5  2016     0.000001\n",
      "1891892       Zyel   M       5  2016     0.000001\n",
      "1891893      Zylyn   M       5  2016     0.000001\n",
      "\n",
      "[1891894 rows x 5 columns]\n"
     ]
    }
   ],
   "source": [
    "bnames2 = bnames.copy()\n",
    "aggr={'births':'sum'}\n",
    "year_totals = bnames2.groupby('year').agg(aggr).reset_index()\n",
    "\n",
    "final=bnames2.merge(year_totals, on=\"year\")\n",
    "final['prop_births']=final['births_x']/final['births_y']\n",
    "\n",
    "bnames2 = final[['name','sex','births_x','year','prop_births']]\n",
    "bnames2.columns=['name','sex','births','year','prop_births']\n",
    "print(bnames2)"
   ]
  },
  {
   "cell_type": "markdown",
   "metadata": {
    "dc": {
     "key": "ec03f98f40"
    },
    "deletable": false,
    "editable": false,
    "run_control": {
     "frozen": true
    },
    "tags": [
     "context"
    ]
   },
   "source": [
    "## 4. Popularity of Names\n",
    "<p>Now that we have the proportion of births, let us plot the popularity of a name through the years. How about plotting the popularity of the female names <code>Elizabeth</code>, and <code>Deneen</code>, and inspecting the underlying trends for any interesting patterns!</p>"
   ]
  },
  {
   "cell_type": "code",
   "execution_count": 47,
   "metadata": {
    "dc": {
     "key": "ec03f98f40"
    },
    "tags": [
     "sample_code"
    ]
   },
   "outputs": [
    {
     "data": {
      "image/png": "[encoded data removed]",
      "text/plain": [
       "<matplotlib.figure.Figure at 0x7f92811acba8>"
      ]
     },
     "metadata": {},
     "output_type": "display_data"
    },
    {
     "data": {
      "image/png": "[encoded data removed]",
      "text/plain": [
       "<matplotlib.figure.Figure at 0x7f9280ce2ef0>"
      ]
     },
     "metadata": {},
     "output_type": "display_data"
    }
   ],
   "source": [
    "# Set up matplotlib for plotting in the notebook.\n",
    "%matplotlib inline\n",
    "import matplotlib.pyplot as plt\n",
    "def plot_trends(name, sex):\n",
    "    plt.figure()\n",
    "    x = bnames.year.unique()\n",
    "    df_x=pd.DataFrame(x,columns=['year'])\n",
    "    y = bnames[bnames.name==name][bnames.sex==sex][['births','year']]\n",
    "    df=df_x.merge(y,on=\"year\",how='left')\n",
    "    df.births.fillna(value=0,inplace=True)\n",
    "    plt.plot(df.year,df.births)\n",
    "    \n",
    "    plt.xlabel('years')\n",
    "    plt.ylabel('birth_count')\n",
    "    plt.title('year v/s birth graph of '+str(name))\n",
    "    return\n",
    "\n",
    "\n",
    "# Plot trends for Elizabeth and Deneen \n",
    "plot_trends('Elizabeth','F')\n",
    "plot_trends('Deneen','F')\n",
    "    \n",
    "# How many times did these female names peak?\n",
    "num_peaks_elizabeth = 3\n",
    "num_peaks_deneen    = 1"
   ]
  },
  {
   "cell_type": "markdown",
   "metadata": {
    "dc": {
     "key": "b56a9fcef5"
    },
    "deletable": false,
    "editable": false,
    "run_control": {
     "frozen": true
    },
    "tags": [
     "context"
    ]
   },
   "source": [
    "## 5. Trendy vs. Stable Names\n",
    "<p>Based on the plots we created earlier, we can see that <strong>Elizabeth</strong> is a fairly stable name, while <strong>Deneen</strong> is not. An interesting question to ask would be what are the top 5 stable and top 5 trendiest names. A stable name is one whose proportion across years does not vary drastically, while a trendy name is one whose popularity peaks for a short period and then dies down. </p>\n",
    "<p>There are many ways to measure trendiness. A simple measure would be to look at the maximum proportion of births for a name, normalized by the sume of proportion of births across years. For example, if the name <code>Joe</code> had the proportions <code>0.1, 0.2, 0.1, 0.1</code>, then the trendiness measure would be <code>0.2/(0.1 + 0.2 + 0.1 + 0.1)</code> which equals <code>0.5</code>.</p>\n",
    "<p>Let us use this idea to figure out the top 10 trendy names in this data set, with at least a 1000 births.</p>"
   ]
  },
  {
   "cell_type": "code",
   "execution_count": 49,
   "metadata": {
    "dc": {
     "key": "b56a9fcef5"
    },
    "tags": [
     "sample_code"
    ]
   },
   "outputs": [
    {
     "name": "stdout",
     "output_type": "stream",
     "text": [
      "           name sex  total   max  trendiness\n",
      "19116  Christop   M   1082  1082    1.000000\n",
      "83611   Royalty   F   1057   581    0.549669\n",
      "55721     Kizzy   F   2325  1116    0.480000\n",
      "2430     Aitana   F   1203   564    0.468828\n",
      "25420    Deneen   F   3602  1604    0.445308\n",
      "70580    Moesha   F   1067   426    0.399250\n",
      "65768    Marely   F   2527  1004    0.397309\n",
      "50745     Kanye   M   1304   507    0.388804\n",
      "95558  Tennille   F   2172   769    0.354052\n",
      "49407   Kadijah   F   1411   486    0.344437\n"
     ]
    }
   ],
   "source": [
    "# top10_trendy_names | A Data Frame of the top 10 most trendy names\n",
    "aggre={'births':{'max_births':'max','total_births':'sum'}}\n",
    "maximum= bnames.groupby(['name','sex']).agg(aggre).reset_index()\n",
    "maximum.columns.droplevel(0)\n",
    "maximum.columns=['name','sex','total','max']\n",
    "maximum['trendiness']=maximum['max']/maximum['total']\n",
    "top10_trendy_names= maximum[maximum.total>1000].sort(columns='trendiness',ascending=False).head(10)\n",
    "print(top10_trendy_names)"
   ]
  },
  {
   "cell_type": "markdown",
   "metadata": {
    "dc": {
     "key": "8beea38403"
    },
    "deletable": false,
    "editable": false,
    "run_control": {
     "frozen": true
    },
    "tags": [
     "context"
    ]
   },
   "source": [
    "## 6. Bring in Mortality Data\n",
    "<p>So, what more is in a name? Well, with some further work, it is possible to predict the age of a person based on the name (Whoa! Really????). For this, we will need actuarial data that can tell us the chances that someone is still alive, based on when they were born. Fortunately, the <a href=\"https://www.ssa.gov/\">SSA</a> provides detailed <a href=\"https://www.ssa.gov/oact/STATS/table4c6.html\">actuarial life tables</a> by birth cohorts.</p>\n",
    "<table>\n",
    "<thead>\n",
    "<tr>\n",
    "<th style=\"text-align:right;\">year</th>\n",
    "<th style=\"text-align:right;\">age</th>\n",
    "<th style=\"text-align:right;\">qx</th>\n",
    "<th style=\"text-align:right;\">lx</th>\n",
    "<th style=\"text-align:right;\">dx</th>\n",
    "<th style=\"text-align:right;\">Lx</th>\n",
    "<th style=\"text-align:right;\">Tx</th>\n",
    "<th style=\"text-align:right;\">ex</th>\n",
    "<th style=\"text-align:left;\">sex</th>\n",
    "</tr>\n",
    "</thead>\n",
    "<tbody>\n",
    "<tr>\n",
    "<td style=\"text-align:right;\">1910</td>\n",
    "<td style=\"text-align:right;\">39</td>\n",
    "<td style=\"text-align:right;\">0.00283</td>\n",
    "<td style=\"text-align:right;\">78275</td>\n",
    "<td style=\"text-align:right;\">222</td>\n",
    "<td style=\"text-align:right;\">78164</td>\n",
    "<td style=\"text-align:right;\">3129636</td>\n",
    "<td style=\"text-align:right;\">39.98</td>\n",
    "<td style=\"text-align:left;\">F</td>\n",
    "</tr>\n",
    "<tr>\n",
    "<td style=\"text-align:right;\">1910</td>\n",
    "<td style=\"text-align:right;\">40</td>\n",
    "<td style=\"text-align:right;\">0.00297</td>\n",
    "<td style=\"text-align:right;\">78053</td>\n",
    "<td style=\"text-align:right;\">232</td>\n",
    "<td style=\"text-align:right;\">77937</td>\n",
    "<td style=\"text-align:right;\">3051472</td>\n",
    "<td style=\"text-align:right;\">39.09</td>\n",
    "<td style=\"text-align:left;\">F</td>\n",
    "</tr>\n",
    "<tr>\n",
    "<td style=\"text-align:right;\">1910</td>\n",
    "<td style=\"text-align:right;\">41</td>\n",
    "<td style=\"text-align:right;\">0.00318</td>\n",
    "<td style=\"text-align:right;\">77821</td>\n",
    "<td style=\"text-align:right;\">248</td>\n",
    "<td style=\"text-align:right;\">77697</td>\n",
    "<td style=\"text-align:right;\">2973535</td>\n",
    "<td style=\"text-align:right;\">38.21</td>\n",
    "<td style=\"text-align:left;\">F</td>\n",
    "</tr>\n",
    "<tr>\n",
    "<td style=\"text-align:right;\">1910</td>\n",
    "<td style=\"text-align:right;\">42</td>\n",
    "<td style=\"text-align:right;\">0.00332</td>\n",
    "<td style=\"text-align:right;\">77573</td>\n",
    "<td style=\"text-align:right;\">257</td>\n",
    "<td style=\"text-align:right;\">77444</td>\n",
    "<td style=\"text-align:right;\">2895838</td>\n",
    "<td style=\"text-align:right;\">37.33</td>\n",
    "<td style=\"text-align:left;\">F</td>\n",
    "</tr>\n",
    "<tr>\n",
    "<td style=\"text-align:right;\">1910</td>\n",
    "<td style=\"text-align:right;\">43</td>\n",
    "<td style=\"text-align:right;\">0.00346</td>\n",
    "<td style=\"text-align:right;\">77316</td>\n",
    "<td style=\"text-align:right;\">268</td>\n",
    "<td style=\"text-align:right;\">77182</td>\n",
    "<td style=\"text-align:right;\">2818394</td>\n",
    "<td style=\"text-align:right;\">36.45</td>\n",
    "<td style=\"text-align:left;\">F</td>\n",
    "</tr>\n",
    "<tr>\n",
    "<td style=\"text-align:right;\">1910</td>\n",
    "<td style=\"text-align:right;\">44</td>\n",
    "<td style=\"text-align:right;\">0.00351</td>\n",
    "<td style=\"text-align:right;\">77048</td>\n",
    "<td style=\"text-align:right;\">270</td>\n",
    "<td style=\"text-align:right;\">76913</td>\n",
    "<td style=\"text-align:right;\">2741212</td>\n",
    "<td style=\"text-align:right;\">35.58</td>\n",
    "<td style=\"text-align:left;\">F</td>\n",
    "</tr>\n",
    "</tbody>\n",
    "</table>\n",
    "<p>You can read the <a href=\"https://www.ssa.gov/oact/NOTES/as120/LifeTables_Body.html\">documentation for the lifetables</a> to understand what the different columns mean. The key column of interest to us is <code>lx</code>, which provides the number of people born in a <code>year</code> who live upto a given <code>age</code>. The probability of being alive can be derived as <code>lx</code> by 100,000. </p>\n",
    "<p>Given that 2016 is the latest year in the baby names dataset, we are interested only in a subset of this data, that will help us answer the question, \"What percentage of people born in Year X are still alive in 2016?\" </p>\n",
    "<p>Let us use this data and plot it to get a sense of the mortality distribution!</p>"
   ]
  },
  {
   "cell_type": "code",
   "execution_count": 51,
   "metadata": {
    "dc": {
     "key": "8beea38403"
    },
    "tags": [
     "sample_code"
    ]
   },
   "outputs": [
    {
     "name": "stdout",
     "output_type": "stream",
     "text": [
      "      year  age       qx       lx     dx      Lx         Tx     ex sex\n",
      "116   1900  116  0.83363      0.0      0       0          0   0.69   M\n",
      "236   1900  116  0.83363      0.0      0       0          0   0.69   F\n",
      "346   1910  106  0.51178      7.0      3       5          9   1.38   M\n",
      "466   1910  106  0.47062     61.0     29      47         92   1.52   F\n",
      "576   1920   96  0.30765   1625.0    500   1,375      4,000   2.46   M\n",
      "696   1920   96  0.25681   5428.0  1,394   4,731     15,788   2.91   F\n",
      "806   1930   86  0.12620  20766.0  2,621  19,455    105,149   5.06   M\n",
      "926   1930   86  0.09239  35078.0  3,241  33,458    216,619   6.18   F\n",
      "1036  1940   76  0.04469  52262.0  2,336  51,094    527,017  10.08   M\n",
      "1156  1940   76  0.03168  65417.0  2,072  64,380    783,771  11.98   F\n",
      "1266  1950   66  0.01825  74633.0  1,362  73,952  1,261,965  16.91   M\n",
      "1386  1950   66  0.01268  83676.0  1,061  83,145  1,631,592  19.50   F\n",
      "1496  1960   56  0.00708  85491.0    605  85,188  2,162,629  25.30   M\n",
      "1616  1960   56  0.00469  91390.0    429  91,175  2,591,800  28.36   F\n",
      "1726  1970   46  0.00370  91811.0    340  91,641  3,179,046  34.63   M\n",
      "1846  1970   46  0.00204  95092.0    194  94,995  3,621,951  38.09   F\n",
      "1956  1980   36  0.00165  95598.0    158  95,519  4,250,489  44.46   M\n",
      "2076  1980   36  0.00100  97375.0     97  97,326  4,689,394  48.16   F\n",
      "2186  1990   26  0.00102  97465.0    100  97,415  5,330,233  54.69   M\n",
      "2306  1990   26  0.00044  98446.0     44  98,424  5,759,761  58.51   F\n",
      "2416  2000   16  0.00067  98888.0     66  98,855  6,416,111  64.88   M\n",
      "2536  2000   16  0.00032  99116.0     32  99,100  6,831,002  68.92   F\n",
      "2646  2010    6  0.00013  99296.0     13  99,289  7,500,165  75.53   M\n",
      "2766  2010    6  0.00011  99410.0     11  99,404  7,899,134  79.46   F\n"
     ]
    },
    {
     "data": {
      "image/png": "[encoded data removed]",
      "text/plain": [
       "<matplotlib.figure.Figure at 0x7f928104f390>"
      ]
     },
     "metadata": {},
     "output_type": "display_data"
    }
   ],
   "source": [
    "# Read lifetables from datasets/lifetables.csv\n",
    "lifetables=pd.read_csv('datasets/lifetables.csv')\n",
    "# Extract subset relevant to those alive in 2016\n",
    "lifetables_2016 = lifetables[lifetables.year + lifetables.age == 2016]\n",
    "print(lifetables_2016)\n",
    "# Plot the mortality distribution: year vs. lx\n",
    "plt.plot(lifetables_2016[lifetables_2016.sex=='M'].year,lifetables_2016[lifetables_2016.sex=='M'].lx,color='red')\n",
    "plt.plot(lifetables_2016[lifetables_2016.sex=='F'].year,lifetables_2016[lifetables_2016.sex=='F'].lx,color='blue')\n",
    "plt.xlabel('year')\n",
    "plt.ylabel('lx')\n",
    "plt.title('Mortality distribution')\n",
    "plt.show()"
   ]
  },
  {
   "cell_type": "markdown",
   "metadata": {
    "dc": {
     "key": "19e120d2df"
    },
    "deletable": false,
    "editable": false,
    "run_control": {
     "frozen": true
    },
    "tags": [
     "context"
    ]
   },
   "source": [
    "## 7. Smoothen the Curve!\n",
    "<p>We are almost there. There is just one small glitch. The cohort life tables are provided only for every decade. In order to figure out the distribution of people alive, we need the probabilities for every year. One way to fill up the gaps in the data is to use some kind of interpolation. Let us keep things simple and use linear interpolation to fill out the gaps in values of <code>lx</code>, between the years <code>1900</code> and <code>2016</code>.</p>"
   ]
  },
  {
   "cell_type": "code",
   "execution_count": 53,
   "metadata": {
    "dc": {
     "key": "19e120d2df"
    },
    "tags": [
     "sample_code"
    ]
   },
   "outputs": [
    {
     "name": "stdout",
     "output_type": "stream",
     "text": [
      "     year       lx sex\n",
      "0    1900      0.0   M\n",
      "1    1901      0.7   M\n",
      "2    1902      1.4   M\n",
      "3    1903      2.1   M\n",
      "4    1904      2.8   M\n",
      "5    1905      3.5   M\n",
      "6    1906      4.2   M\n",
      "7    1907      4.9   M\n",
      "8    1908      5.6   M\n",
      "9    1909      6.3   M\n",
      "10   1910      7.0   M\n",
      "11   1911    168.8   M\n",
      "12   1912    330.6   M\n",
      "13   1913    492.4   M\n",
      "14   1914    654.2   M\n",
      "15   1915    816.0   M\n",
      "16   1916    977.8   M\n",
      "17   1917   1139.6   M\n",
      "18   1918   1301.4   M\n",
      "19   1919   1463.2   M\n",
      "20   1920   1625.0   M\n",
      "21   1921   3539.1   M\n",
      "22   1922   5453.2   M\n",
      "23   1923   7367.3   M\n",
      "24   1924   9281.4   M\n",
      "25   1925  11195.5   M\n",
      "26   1926  13109.6   M\n",
      "27   1927  15023.7   M\n",
      "28   1928  16937.8   M\n",
      "29   1929  18851.9   M\n",
      "..    ...      ...  ..\n",
      "86   1986  98017.6   F\n",
      "87   1987  98124.7   F\n",
      "88   1988  98231.8   F\n",
      "89   1989  98338.9   F\n",
      "90   1990  98446.0   F\n",
      "91   1991  98513.0   F\n",
      "92   1992  98580.0   F\n",
      "93   1993  98647.0   F\n",
      "94   1994  98714.0   F\n",
      "95   1995  98781.0   F\n",
      "96   1996  98848.0   F\n",
      "97   1997  98915.0   F\n",
      "98   1998  98982.0   F\n",
      "99   1999  99049.0   F\n",
      "100  2000  99116.0   F\n",
      "101  2001  99145.4   F\n",
      "102  2002  99174.8   F\n",
      "103  2003  99204.2   F\n",
      "104  2004  99233.6   F\n",
      "105  2005  99263.0   F\n",
      "106  2006  99292.4   F\n",
      "107  2007  99321.8   F\n",
      "108  2008  99351.2   F\n",
      "109  2009  99380.6   F\n",
      "110  2010  99410.0   F\n",
      "111  2011  99410.0   F\n",
      "112  2012  99410.0   F\n",
      "113  2013  99410.0   F\n",
      "114  2014  99410.0   F\n",
      "115  2015  99410.0   F\n",
      "\n",
      "[232 rows x 3 columns]\n"
     ]
    },
    {
     "data": {
      "image/png": "[encoded data removed]",
      "text/plain": [
       "<matplotlib.figure.Figure at 0x7f9280fb2160>"
      ]
     },
     "metadata": {},
     "output_type": "display_data"
    }
   ],
   "source": [
    "# Create smoothened lifetable_2016_s by interpolating values of lx\n",
    "years_calculated = pd.DataFrame([i for i in range(1900,2016)],columns=['year'])\n",
    "\n",
    "lifetable_2016_s_m = years_calculated.merge(lifetables_2016[['lx','sex','year']][lifetables_2016.year>=1900][lifetables_2016.year<=2016][lifetables_2016.sex=='M'],how='left',on=\"year\")\n",
    "lifetable_2016_s_ml=lifetable_2016_s_m.lx.interpolate('linear',limit=10)\n",
    "lifetable_2016_s_m['sex']='M'\n",
    "lifetable_2016_s_m['lx']= lifetable_2016_s_ml\n",
    "plt.plot(years_calculated,lifetable_2016_s_ml,color='red')\n",
    "\n",
    "\n",
    "lifetable_2016_s_f = years_calculated.merge(lifetables_2016[['lx','sex','year']][lifetables_2016.year>=1900][lifetables_2016.year<=2016][lifetables_2016.sex=='F'],how='left',on=\"year\")\n",
    "lifetable_2016_s_fl=lifetable_2016_s_f.lx.interpolate('linear',limit=10)\n",
    "lifetable_2016_s_f['sex']='F'\n",
    "lifetable_2016_s_f['lx']= lifetable_2016_s_fl\n",
    "plt.plot(years_calculated,lifetable_2016_s_fl,color='blue')\n",
    "\n",
    "lifetable_2016_s=lifetable_2016_s_m.append(lifetable_2016_s_f)\n",
    "print(lifetable_2016_s)"
   ]
  },
  {
   "cell_type": "markdown",
   "metadata": {
    "dc": {
     "key": "8edb689558"
    },
    "deletable": false,
    "editable": false,
    "run_control": {
     "frozen": true
    },
    "tags": [
     "context"
    ]
   },
   "source": [
    "## 8. Distribution of People Alive by Name\n",
    "<p>Now that we have all the required data, we need a few helper functions to help us with our analysis. </p>\n",
    "<p>The first function we will write is <code>get_data</code>,which takes <code>name</code> and <code>sex</code> as inputs and returns a data frame with the distribution of number of births and number of people alive by year.</p>\n",
    "<p>The second function is <code>plot_name</code> which accepts the same arguments as <code>get_data</code>, but returns a line plot of the distribution of number of births, overlaid by an area plot of the number alive by year.</p>\n",
    "<p>Using these functions, we will plot the distribution of births for boys named <strong>Joseph</strong> and girls named <strong>Brittany</strong>.</p>"
   ]
  },
  {
   "cell_type": "code",
   "execution_count": 55,
   "metadata": {
    "dc": {
     "key": "8edb689558"
    },
    "tags": [
     "sample_code"
    ]
   },
   "outputs": [
    {
     "data": {
      "image/png": "[encoded data removed]",
      "text/plain": [
       "<matplotlib.figure.Figure at 0x7f9280f3b0b8>"
      ]
     },
     "metadata": {},
     "output_type": "display_data"
    },
    {
     "data": {
      "image/png": "[encoded data removed]",
      "text/plain": [
       "<matplotlib.figure.Figure at 0x7f9280f3b2e8>"
      ]
     },
     "metadata": {},
     "output_type": "display_data"
    }
   ],
   "source": [
    "def get_data(name, sex):\n",
    "    data_returned = bnames[bnames.name==name][bnames.sex==sex].merge(lifetable_2016_s,how='inner',on=['year','sex'])\n",
    "    data_returned['n_alive'] = (data_returned.lx * data_returned.births)/100000\n",
    "    return data_returned\n",
    "    \n",
    "\n",
    "def plot_data(name, sex):\n",
    "    plt.figure()\n",
    "    data_obtained=get_data(name,sex)\n",
    "    plt.plot(data_obtained.year,data_obtained.births)\n",
    "    plt.stackplot(data_obtained.year,data_obtained.n_alive)\n",
    "    plt.legend()\n",
    "    plt.show()\n",
    "    return \n",
    "    \n",
    "# Plot the distribution of births and number alive for Joseph and Brittany\n",
    "plot_data('Joseph','M')\n",
    "plot_data('Brittany','F')"
   ]
  },
  {
   "cell_type": "markdown",
   "metadata": {
    "dc": {
     "key": "76f2d745c2"
    },
    "deletable": false,
    "editable": false,
    "run_control": {
     "frozen": true
    },
    "tags": [
     "context"
    ]
   },
   "source": [
    "## 9. Estimate Age\n",
    "<p>In this section, we want to figure out the probability that a person with a certain name is alive, as well as the quantiles of their age distribution. In particular, we will estimate the age of a female named <strong>Gertrude</strong>. Any guesses on how old a person with this name is? How about a male named <strong>William</strong>?</p>"
   ]
  },
  {
   "cell_type": "code",
   "execution_count": 79,
   "metadata": {
    "dc": {
     "key": "76f2d745c2"
    },
    "tags": [
     "sample_code"
    ]
   },
   "outputs": [
    {
     "name": "stdout",
     "output_type": "stream",
     "text": [
      "name       Gertrude\n",
      "p_alive    0.187256\n",
      "q25         88.4885\n",
      "q50         79.9437\n",
      "q75         69.0775\n",
      "sex               F\n",
      "dtype: object\n",
      "name        William\n",
      "p_alive    0.613192\n",
      "q25         65.4069\n",
      "q50         51.9855\n",
      "q75         30.4931\n",
      "sex               M\n",
      "dtype: object\n"
     ]
    }
   ],
   "source": [
    "# Import modules\n",
    "from wquantiles import quantile\n",
    "\n",
    "# Function to estimate age quantiles\n",
    "def estimate_age(name, sex):\n",
    "    dfg = get_data(name,sex)\n",
    "    result={}\n",
    "    result['name'] = name\n",
    "    result['p_alive'] =  dfg.n_alive.mean()/dfg.births.mean()\n",
    "    result['q25'] = 2016-quantile(dfg.year,dfg.n_alive,0.25)\n",
    "    result['q50'] = 2016-quantile(dfg.year,dfg.n_alive,0.50)\n",
    "    result['q75'] = 2016-quantile(dfg.year,dfg.n_alive,0.75)\n",
    "    result['sex'] = sex\n",
    "    return pd.Series(result)\n",
    "\n",
    "# Estimate the age of Gertrude\n",
    "print(estimate_age('Gertrude','F'))\n",
    "print(estimate_age('William','M'))"
   ]
  },
  {
   "cell_type": "markdown",
   "metadata": {
    "dc": {
     "key": "9f5f6fd409"
    },
    "deletable": false,
    "editable": false,
    "run_control": {
     "frozen": true
    },
    "tags": [
     "context"
    ]
   },
   "source": [
    "## 10. Median Age of Top 10 Female Names\n",
    "<p>In the previous section, we estimated the age of a female named Gertrude. Let's go one step further this time, and compute the 25th, 50th and 75th percentiles of age, and the probability of being alive for the top 10 most common female names of all time. This should give us some interesting insights on how these names stack up in terms of median ages!</p>"
   ]
  },
  {
   "cell_type": "code",
   "execution_count": 90,
   "metadata": {
    "dc": {
     "key": "9f5f6fd409"
    },
    "tags": [
     "sample_code"
    ]
   },
   "outputs": [
    {
     "name": "stdout",
     "output_type": "stream",
     "text": [
      "        name   p_alive        q25        q50        q75 sex\n",
      "9  Elizabeth  0.744920  57.517297  37.801482  22.757173   F\n",
      "6      Emily  0.925989  28.239810  19.391434  11.981368   F\n",
      "8    Madison  0.991668  16.852947  12.560905   7.834709   F\n",
      "7    Abigail  0.986541  18.355760  12.299451   6.903058   F\n",
      "0       Emma  0.767596  18.837957  11.615183   5.866681   F\n",
      "2     Olivia  0.956136  18.292851  11.372814   5.645621   F\n",
      "5        Mia  0.990170  12.856574   8.165069   3.955382   F\n",
      "3   Isabella  0.973684  11.967922   7.899871   4.566412   F\n",
      "1     Sophia  0.953531  13.270921   7.835890   4.171459   F\n",
      "4        Ava  0.971168  10.425086   7.288410   3.880700   F\n"
     ]
    }
   ],
   "source": [
    "# Create median_ages: DataFrame with Top 10 Female names, \n",
    "#    age percentiles and probability of being alive\n",
    "female_names=subset[['name','sex']][subset.sex=='F'].head(10)\n",
    "raw={}\n",
    "median_ages=pd.DataFrame(raw,columns=['name','p_alive','q25','q50','q75','sex'])\n",
    "for i in female_names.values:\n",
    "    median_ages=median_ages.append(estimate_age(i[0],i[1]),ignore_index=True)\n",
    "\n",
    "median_ages=median_ages.sort(columns='q50',ascending=False)\n",
    "print(median_ages)"
   ]
  }
 ],
 "metadata": {
  "kernelspec": {
   "display_name": "kernel1",
   "language": "python",
   "name": "kernel1"
  },
  "language_info": {
   "codemirror_mode": {
    "name": "ipython",
    "version": 3
   },
   "file_extension": ".py",
   "mimetype": "text/x-python",
   "name": "python",
   "nbconvert_exporter": "python",
   "pygments_lexer": "ipython3",
   "version": "3.5.2"
  }
 },
 "nbformat": 4,
 "nbformat_minor": 2
}
